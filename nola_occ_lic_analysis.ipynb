{
 "cells": [
  {
   "cell_type": "code",
   "execution_count": 3,
   "id": "7c492429-8147-4268-beb2-3486ff42df7c",
   "metadata": {},
   "outputs": [
    {
     "name": "stdout",
     "output_type": "stream",
     "text": [
      "(10896, 20)\n",
      "['BusinessAddress', 'BusinessName', 'BusinessPhone', 'BusinessStartDate', 'BusinessType', 'BusinessLicenseNumber', 'City', 'OwnerName', 'State', 'StreetDirection', 'StreetName', 'StreetNumber', 'StreetSuffix', 'Suite', 'Zip', 'LocationX', 'LocationY', 'Latitude', 'Longitude', 'Location']\n"
     ]
    },
    {
     "data": {
      "text/html": [
       "<div>\n",
       "<style scoped>\n",
       "    .dataframe tbody tr th:only-of-type {\n",
       "        vertical-align: middle;\n",
       "    }\n",
       "\n",
       "    .dataframe tbody tr th {\n",
       "        vertical-align: top;\n",
       "    }\n",
       "\n",
       "    .dataframe thead th {\n",
       "        text-align: right;\n",
       "    }\n",
       "</style>\n",
       "<table border=\"1\" class=\"dataframe\">\n",
       "  <thead>\n",
       "    <tr style=\"text-align: right;\">\n",
       "      <th></th>\n",
       "      <th>BusinessAddress</th>\n",
       "      <th>BusinessName</th>\n",
       "      <th>BusinessPhone</th>\n",
       "      <th>BusinessStartDate</th>\n",
       "      <th>BusinessType</th>\n",
       "      <th>BusinessLicenseNumber</th>\n",
       "      <th>City</th>\n",
       "      <th>OwnerName</th>\n",
       "      <th>State</th>\n",
       "      <th>StreetDirection</th>\n",
       "      <th>StreetName</th>\n",
       "      <th>StreetNumber</th>\n",
       "      <th>StreetSuffix</th>\n",
       "      <th>Suite</th>\n",
       "      <th>Zip</th>\n",
       "      <th>LocationX</th>\n",
       "      <th>LocationY</th>\n",
       "      <th>Latitude</th>\n",
       "      <th>Longitude</th>\n",
       "      <th>Location</th>\n",
       "    </tr>\n",
       "  </thead>\n",
       "  <tbody>\n",
       "    <tr>\n",
       "      <th>0</th>\n",
       "      <td>4532 MAGAZINE ST</td>\n",
       "      <td>OCTAVIA ART AND FILM</td>\n",
       "      <td>504-616-6202</td>\n",
       "      <td>2008-03-14</td>\n",
       "      <td>Art Dealers</td>\n",
       "      <td>102680731</td>\n",
       "      <td>NEW ORLEANS</td>\n",
       "      <td>PAMELA M BRYAN</td>\n",
       "      <td>LA</td>\n",
       "      <td>NaN</td>\n",
       "      <td>MAGAZINE</td>\n",
       "      <td>4532</td>\n",
       "      <td>ST</td>\n",
       "      <td>NaN</td>\n",
       "      <td>70115-1543</td>\n",
       "      <td>3670385.57</td>\n",
       "      <td>518674.04</td>\n",
       "      <td>29.920506</td>\n",
       "      <td>-90.103601</td>\n",
       "      <td>POINT (-90.10360111114565 29.92050622841199)</td>\n",
       "    </tr>\n",
       "    <tr>\n",
       "      <th>1</th>\n",
       "      <td>24740 MILL VALLEY WAY</td>\n",
       "      <td>ALLOHN DESIGNS</td>\n",
       "      <td>NaN</td>\n",
       "      <td>2018-05-14</td>\n",
       "      <td>Special Events-Other (Vendor)</td>\n",
       "      <td>105032410</td>\n",
       "      <td>CARSON</td>\n",
       "      <td>AGBENYA ALLOHN</td>\n",
       "      <td>CA</td>\n",
       "      <td>NaN</td>\n",
       "      <td>MILL VALLEY</td>\n",
       "      <td>24740</td>\n",
       "      <td>WAY</td>\n",
       "      <td>NaN</td>\n",
       "      <td>90745-6454</td>\n",
       "      <td>0.00</td>\n",
       "      <td>0.00</td>\n",
       "      <td>0.000000</td>\n",
       "      <td>0.000000</td>\n",
       "      <td>POINT (0 0)</td>\n",
       "    </tr>\n",
       "    <tr>\n",
       "      <th>2</th>\n",
       "      <td>2555 VALENCE ST</td>\n",
       "      <td>LOUANGER</td>\n",
       "      <td>(503) 867-6923</td>\n",
       "      <td>2025-02-01</td>\n",
       "      <td>Bed &amp; Breakfast Inns</td>\n",
       "      <td>106124978</td>\n",
       "      <td>NEW ORLEANS</td>\n",
       "      <td>LOUANGER</td>\n",
       "      <td>LA</td>\n",
       "      <td>NaN</td>\n",
       "      <td>VALENCE</td>\n",
       "      <td>2555</td>\n",
       "      <td>ST</td>\n",
       "      <td>NaN</td>\n",
       "      <td>70115-6341</td>\n",
       "      <td>3669444.11</td>\n",
       "      <td>524212.50</td>\n",
       "      <td>29.935763</td>\n",
       "      <td>-90.106386</td>\n",
       "      <td>POINT (-90.10638567129016 29.935762975538836)</td>\n",
       "    </tr>\n",
       "    <tr>\n",
       "      <th>3</th>\n",
       "      <td>650 S ROCHEBLAVE ST</td>\n",
       "      <td>NOLA FROZEN TIME PHOTOGRAPHY</td>\n",
       "      <td>(504) 892-3220</td>\n",
       "      <td>2025-03-27</td>\n",
       "      <td>Photography Studios, Portrait</td>\n",
       "      <td>106022854</td>\n",
       "      <td>NEW ORLEANS</td>\n",
       "      <td>NOLA FROZEN TIME PHOTOGRAPHY L</td>\n",
       "      <td>LA</td>\n",
       "      <td>S</td>\n",
       "      <td>ROCHEBLAVE</td>\n",
       "      <td>650</td>\n",
       "      <td>ST</td>\n",
       "      <td>NaN</td>\n",
       "      <td>70119-7439</td>\n",
       "      <td>3674709.28</td>\n",
       "      <td>532565.42</td>\n",
       "      <td>29.958575</td>\n",
       "      <td>-90.089477</td>\n",
       "      <td>POINT (-90.0894771646702 29.958574674015836)</td>\n",
       "    </tr>\n",
       "    <tr>\n",
       "      <th>4</th>\n",
       "      <td>3317 MAGAZINE ST</td>\n",
       "      <td>A VARGAS BODY SHOP</td>\n",
       "      <td>504-891-2606</td>\n",
       "      <td>1980-02-03</td>\n",
       "      <td>Automotive Body, Paint &amp; Interior Repair &amp; Mai...</td>\n",
       "      <td>101117693</td>\n",
       "      <td>NEW ORLEANS</td>\n",
       "      <td>A VARGAS BODY SHOP INC</td>\n",
       "      <td>LA</td>\n",
       "      <td>NaN</td>\n",
       "      <td>MAGAZINE</td>\n",
       "      <td>3317</td>\n",
       "      <td>ST</td>\n",
       "      <td>NaN</td>\n",
       "      <td>70115-2410</td>\n",
       "      <td>3675193.08</td>\n",
       "      <td>519773.31</td>\n",
       "      <td>29.923386</td>\n",
       "      <td>-90.088388</td>\n",
       "      <td>POINT (-90.08838832801506 29.923386122945704)</td>\n",
       "    </tr>\n",
       "  </tbody>\n",
       "</table>\n",
       "</div>"
      ],
      "text/plain": [
       "         BusinessAddress                  BusinessName   BusinessPhone  \\\n",
       "0       4532 MAGAZINE ST          OCTAVIA ART AND FILM    504-616-6202   \n",
       "1  24740 MILL VALLEY WAY                ALLOHN DESIGNS             NaN   \n",
       "2        2555 VALENCE ST                      LOUANGER  (503) 867-6923   \n",
       "3    650 S ROCHEBLAVE ST  NOLA FROZEN TIME PHOTOGRAPHY  (504) 892-3220   \n",
       "4       3317 MAGAZINE ST            A VARGAS BODY SHOP    504-891-2606   \n",
       "\n",
       "  BusinessStartDate                                       BusinessType  \\\n",
       "0        2008-03-14                                        Art Dealers   \n",
       "1        2018-05-14                      Special Events-Other (Vendor)   \n",
       "2        2025-02-01                               Bed & Breakfast Inns   \n",
       "3        2025-03-27                      Photography Studios, Portrait   \n",
       "4        1980-02-03  Automotive Body, Paint & Interior Repair & Mai...   \n",
       "\n",
       "   BusinessLicenseNumber         City                       OwnerName State  \\\n",
       "0              102680731  NEW ORLEANS                  PAMELA M BRYAN    LA   \n",
       "1              105032410       CARSON                  AGBENYA ALLOHN    CA   \n",
       "2              106124978  NEW ORLEANS                        LOUANGER    LA   \n",
       "3              106022854  NEW ORLEANS  NOLA FROZEN TIME PHOTOGRAPHY L    LA   \n",
       "4              101117693  NEW ORLEANS          A VARGAS BODY SHOP INC    LA   \n",
       "\n",
       "  StreetDirection   StreetName StreetNumber StreetSuffix Suite         Zip  \\\n",
       "0             NaN     MAGAZINE         4532           ST   NaN  70115-1543   \n",
       "1             NaN  MILL VALLEY        24740          WAY   NaN  90745-6454   \n",
       "2             NaN      VALENCE         2555           ST   NaN  70115-6341   \n",
       "3               S   ROCHEBLAVE          650           ST   NaN  70119-7439   \n",
       "4             NaN     MAGAZINE         3317           ST   NaN  70115-2410   \n",
       "\n",
       "    LocationX  LocationY   Latitude  Longitude  \\\n",
       "0  3670385.57  518674.04  29.920506 -90.103601   \n",
       "1        0.00       0.00   0.000000   0.000000   \n",
       "2  3669444.11  524212.50  29.935763 -90.106386   \n",
       "3  3674709.28  532565.42  29.958575 -90.089477   \n",
       "4  3675193.08  519773.31  29.923386 -90.088388   \n",
       "\n",
       "                                        Location  \n",
       "0   POINT (-90.10360111114565 29.92050622841199)  \n",
       "1                                    POINT (0 0)  \n",
       "2  POINT (-90.10638567129016 29.935762975538836)  \n",
       "3   POINT (-90.0894771646702 29.958574674015836)  \n",
       "4  POINT (-90.08838832801506 29.923386122945704)  "
      ]
     },
     "execution_count": 3,
     "metadata": {},
     "output_type": "execute_result"
    }
   ],
   "source": [
    "import pandas as pd\n",
    "\n",
    "df = pd.read_csv(\"active_occ_licenses_2025.csv\")\n",
    "\n",
    "print(df.shape)\n",
    "print(df.columns.tolist())\n",
    "df.head()"
   ]
  },
  {
   "cell_type": "code",
   "execution_count": 2,
   "id": "02ac7820-06b4-4567-8443-f1b001ca491a",
   "metadata": {},
   "outputs": [],
   "source": [
    "df['BusinessStartDate'] = pd.to_datetime(df['BusinessStartDate'], errors='coerce')"
   ]
  },
  {
   "cell_type": "markdown",
   "id": "1b0dac94-5e44-45e0-a28c-99b453f72df7",
   "metadata": {},
   "source": [
    "Businesses Started by Year"
   ]
  },
  {
   "cell_type": "code",
   "execution_count": 3,
   "id": "40d51788-939a-4704-bec3-95edb1ce9909",
   "metadata": {},
   "outputs": [
    {
     "data": {
      "text/plain": [
       "BusinessStartYear\n",
       "1900     10\n",
       "1937      1\n",
       "1952      1\n",
       "1958      1\n",
       "1962      1\n",
       "       ... \n",
       "2022    549\n",
       "2023    649\n",
       "2024    669\n",
       "2025    914\n",
       "2026      2\n",
       "Name: count, Length: 69, dtype: int64"
      ]
     },
     "execution_count": 3,
     "metadata": {},
     "output_type": "execute_result"
    }
   ],
   "source": [
    "df['BusinessStartYear'] = df['BusinessStartDate'].dt.year\n",
    "\n",
    "df['BusinessStartYear'].value_counts().sort_index()"
   ]
  },
  {
   "cell_type": "markdown",
   "id": "46fdbdb9-81b6-4cdb-bda4-cbbb54a0e407",
   "metadata": {},
   "source": [
    "Visualization of Businesses Starting Over Time"
   ]
  },
  {
   "cell_type": "code",
   "execution_count": 4,
   "id": "df6edafb-46c0-4225-83cc-05d6a39555a6",
   "metadata": {},
   "outputs": [
    {
     "data": {
      "image/png": "[encoded data removed]",
      "text/plain": [
       "<Figure size 1200x500 with 1 Axes>"
      ]
     },
     "metadata": {},
     "output_type": "display_data"
    }
   ],
   "source": [
    "import matplotlib.pyplot as plt\n",
    "\n",
    "df['BusinessStartYear'].value_counts().sort_index().plot(kind='bar', figsize=(12,5))\n",
    "plt.title('Number of Businesses Started Each Year')\n",
    "plt.xlabel('Year')\n",
    "plt.ylabel('Count')\n",
    "plt.tight_layout()\n",
    "plt.show()"
   ]
  },
  {
   "cell_type": "markdown",
   "id": "a94ce4ba-237f-4a1f-838e-bfaf7e4050b6",
   "metadata": {},
   "source": [
    "Recent Years: 2000 onward "
   ]
  },
  {
   "cell_type": "code",
   "execution_count": 7,
   "id": "b542db51-f66e-412e-aaca-8e8f44d27b48",
   "metadata": {},
   "outputs": [
    {
     "data": {
      "image/png": "[encoded data removed]",
      "text/plain": [
       "<Figure size 1200x500 with 1 Axes>"
      ]
     },
     "metadata": {},
     "output_type": "display_data"
    }
   ],
   "source": [
    "recent = df[df['BusinessStartYear'] >= 2000]\n",
    "\n",
    "recent['BusinessStartYear'].value_counts().sort_index().plot(kind='bar', figsize=(12, 5))\n",
    "\n",
    "plt.title('Businesses Started Each Year (2000–2025)')\n",
    "plt.xlabel('Year')\n",
    "plt.ylabel('Count')\n",
    "plt.tight_layout()\n",
    "plt.savefig(\"business_starts_trend.png\")\n",
    "plt.show()"
   ]
  },
  {
   "cell_type": "code",
   "execution_count": 6,
   "id": "041e8773-32b4-43fb-b1f1-c74f88455d72",
   "metadata": {},
   "outputs": [
    {
     "data": {
      "text/plain": [
       "<Figure size 640x480 with 0 Axes>"
      ]
     },
     "metadata": {},
     "output_type": "display_data"
    }
   ],
   "source": [
    "plt.savefig(\"business_starts_trend.png\")"
   ]
  },
  {
   "cell_type": "code",
   "execution_count": 4,
   "id": "6c84deea-b045-4a51-b403-f62f7c8bb5d1",
   "metadata": {},
   "outputs": [
    {
     "name": "stdout",
     "output_type": "stream",
     "text": [
      "- **BusinessAddress**: Example value → 4532 MAGAZINE ST\n",
      "- **BusinessName**: Example value → OCTAVIA ART AND FILM\n",
      "- **BusinessPhone**: Example value → 504-616-6202\n",
      "- **BusinessStartDate**: Example value → 2008-03-14\n",
      "- **BusinessType**: Example value → Art Dealers\n",
      "- **BusinessLicenseNumber**: Example value → 102680731\n",
      "- **City**: Example value → NEW ORLEANS\n",
      "- **OwnerName**: Example value → PAMELA M BRYAN\n",
      "- **State**: Example value → LA\n",
      "- **StreetDirection**: Example value → S\n",
      "- **StreetName**: Example value → MAGAZINE\n",
      "- **StreetNumber**: Example value → 4532\n",
      "- **StreetSuffix**: Example value → ST\n",
      "- **Suite**: Example value → 207\n",
      "- **Zip**: Example value → 70115-1543\n",
      "- **LocationX**: Example value → 3670385.57\n",
      "- **LocationY**: Example value → 518674.04\n",
      "- **Latitude**: Example value → 29.92050622841199\n",
      "- **Longitude**: Example value → -90.10360111114564\n",
      "- **Location**: Example value → POINT (-90.10360111114565 29.92050622841199)\n"
     ]
    }
   ],
   "source": [
    "for col in df.columns:\n",
    "    sample_value = df[col].dropna().iloc[0] if not df[col].dropna().empty else \"No data\"\n",
    "    print(f\"- **{col}**: Example value → {sample_value}\")"
   ]
  },
  {
   "cell_type": "markdown",
   "id": "7a39ccfc-cfbf-47c3-bec3-8aa2ccf5da04",
   "metadata": {},
   "source": [
    "## Understanding the Dataset Columns\n",
    "\n",
    "To better interpet the dataseet, this section provides descriptions of each column along with a sample value. This helps clarify the structure of the data before performing any analysis or cleaning. "
   ]
  },
  {
   "cell_type": "markdown",
   "id": "07a4a772-3c05-4013-80e9-e3f4a8441ce0",
   "metadata": {},
   "source": [
    "### Column Description\n",
    "\n",
    "- **BusinessAddress**: Full street address of the buisness\n",
    "  location. _e.g., \"4532 MAGAZINE ST\"_\n",
    "\n",
    "---\n",
    "\n",
    "- **BusinessName**: Registered name of the business.\n",
    "  _e.g., \"OCTAVIA ART AND FILM\"_\n",
    "\n",
    "---\n",
    "\n",
    "- **BusinessPhone**: Business contact number.\n",
    "  _e.g., \"504-616-6202\"_\n",
    "\n",
    "---\n",
    "\n",
    "- **BusinessStartDate**: Official start date of business\n",
    "  operations. _e.g., \"2008-03-14\"_\n",
    "\n",
    "---\n",
    "\n",
    "- **BusinessType**: Classification of the business activity or\n",
    "  industry. _e.g., \"Art Dealers\"_\n",
    "\n",
    "---\n",
    "\n",
    "- **BusinessLicenseNumber**: Unique license ID assigned by the city. _e.g., \"102680731\"_\n",
    "\n",
    "---\n",
    "\n",
    "- **City**: City where the business is registered.\n",
    "  _e.g., \"NEW ORLEANS\"_\n",
    "\n",
    "---\n",
    "\n",
    "- **OwnerName**: Full name of the business owner.\n",
    "  _e.g., \"PAMELA M BRYAN\"_\n",
    "\n",
    "---\n",
    "\n",
    "- **State**: State abbreviation.\n",
    "  _e.g., \"LA\"_\n",
    "\n",
    "---\n",
    "\n",
    "- **StreetDirection**: Compass direction used in the street address. _e.g., \"S\"_\n",
    "\n",
    "---\n",
    "\n",
    "- **StreetName**: Name of the street without number or direction.\n",
    " _e.g., \"MAGAZINE\"_\n",
    "\n",
    "---\n",
    "\n",
    "- **StreetNumber**: Number portion of the address.\n",
    "  _e.g., \"4532\"_\n",
    "\n",
    "---\n",
    "\n",
    "- **StreetSuffix**: Type of road or street abbreviation.\n",
    "  _e.g., \"ST\"_\n",
    "\n",
    "---\n",
    "\n",
    "- **Suite**: Internal office or suite number, if applicable.\n",
    "  _e.g., \"207\"_\n",
    "\n",
    "---\n",
    "\n",
    "- **Zip**: ZIP code including any extended digits.\n",
    "  _e.g., \"70115-1543\"_\n",
    "\n",
    "---\n",
    "\n",
    "- **LocationX / LocationY**: Internal coordinate reference system\n",
    "  values.\n",
    "\n",
    "---\n",
    "\n",
    "- **Lattitude / Longitude**: Georgraphic location of the business.\n",
    "  _e.g., (29.0205, -99.1036)\n",
    "\n",
    "---\n",
    "\n",
    "- **Location**: GIS-style point reference for mapping.\n",
    "  _e.g., \"POINT (-90.1036 29.9205)\"_"
   ]
  }
 ],
 "metadata": {
  "kernelspec": {
   "display_name": "Python 3 (ipykernel)",
   "language": "python",
   "name": "python3"
  },
  "language_info": {
   "codemirror_mode": {
    "name": "ipython",
    "version": 3
   },
   "file_extension": ".py",
   "mimetype": "text/x-python",
   "name": "python",
   "nbconvert_exporter": "python",
   "pygments_lexer": "ipython3",
   "version": "3.11.3"
  }
 },
 "nbformat": 4,
 "nbformat_minor": 5
}
