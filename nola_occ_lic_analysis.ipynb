{
 "cells": [
  {
   "cell_type": "code",
   "execution_count": 1,
   "id": "7c492429-8147-4268-beb2-3486ff42df7c",
   "metadata": {},
   "outputs": [
    {
     "name": "stdout",
     "output_type": "stream",
     "text": [
      "(10896, 20)\n",
      "['BusinessAddress', 'BusinessName', 'BusinessPhone', 'BusinessStartDate', 'BusinessType', 'BusinessLicenseNumber', 'City', 'OwnerName', 'State', 'StreetDirection', 'StreetName', 'StreetNumber', 'StreetSuffix', 'Suite', 'Zip', 'LocationX', 'LocationY', 'Latitude', 'Longitude', 'Location']\n"
     ]
    },
    {
     "data": {
      "text/html": [
       "<div>\n",
       "<style scoped>\n",
       "    .dataframe tbody tr th:only-of-type {\n",
       "        vertical-align: middle;\n",
       "    }\n",
       "\n",
       "    .dataframe tbody tr th {\n",
       "        vertical-align: top;\n",
       "    }\n",
       "\n",
       "    .dataframe thead th {\n",
       "        text-align: right;\n",
       "    }\n",
       "</style>\n",
       "<table border=\"1\" class=\"dataframe\">\n",
       "  <thead>\n",
       "    <tr style=\"text-align: right;\">\n",
       "      <th></th>\n",
       "      <th>BusinessAddress</th>\n",
       "      <th>BusinessName</th>\n",
       "      <th>BusinessPhone</th>\n",
       "      <th>BusinessStartDate</th>\n",
       "      <th>BusinessType</th>\n",
       "      <th>BusinessLicenseNumber</th>\n",
       "      <th>City</th>\n",
       "      <th>OwnerName</th>\n",
       "      <th>State</th>\n",
       "      <th>StreetDirection</th>\n",
       "      <th>StreetName</th>\n",
       "      <th>StreetNumber</th>\n",
       "      <th>StreetSuffix</th>\n",
       "      <th>Suite</th>\n",
       "      <th>Zip</th>\n",
       "      <th>LocationX</th>\n",
       "      <th>LocationY</th>\n",
       "      <th>Latitude</th>\n",
       "      <th>Longitude</th>\n",
       "      <th>Location</th>\n",
       "    </tr>\n",
       "  </thead>\n",
       "  <tbody>\n",
       "    <tr>\n",
       "      <th>0</th>\n",
       "      <td>4532 MAGAZINE ST</td>\n",
       "      <td>OCTAVIA ART AND FILM</td>\n",
       "      <td>504-616-6202</td>\n",
       "      <td>2008-03-14</td>\n",
       "      <td>Art Dealers</td>\n",
       "      <td>102680731</td>\n",
       "      <td>NEW ORLEANS</td>\n",
       "      <td>PAMELA M BRYAN</td>\n",
       "      <td>LA</td>\n",
       "      <td>NaN</td>\n",
       "      <td>MAGAZINE</td>\n",
       "      <td>4532</td>\n",
       "      <td>ST</td>\n",
       "      <td>NaN</td>\n",
       "      <td>70115-1543</td>\n",
       "      <td>3670385.57</td>\n",
       "      <td>518674.04</td>\n",
       "      <td>29.920506</td>\n",
       "      <td>-90.103601</td>\n",
       "      <td>POINT (-90.10360111114565 29.92050622841199)</td>\n",
       "    </tr>\n",
       "    <tr>\n",
       "      <th>1</th>\n",
       "      <td>24740 MILL VALLEY WAY</td>\n",
       "      <td>ALLOHN DESIGNS</td>\n",
       "      <td>NaN</td>\n",
       "      <td>2018-05-14</td>\n",
       "      <td>Special Events-Other (Vendor)</td>\n",
       "      <td>105032410</td>\n",
       "      <td>CARSON</td>\n",
       "      <td>AGBENYA ALLOHN</td>\n",
       "      <td>CA</td>\n",
       "      <td>NaN</td>\n",
       "      <td>MILL VALLEY</td>\n",
       "      <td>24740</td>\n",
       "      <td>WAY</td>\n",
       "      <td>NaN</td>\n",
       "      <td>90745-6454</td>\n",
       "      <td>0.00</td>\n",
       "      <td>0.00</td>\n",
       "      <td>0.000000</td>\n",
       "      <td>0.000000</td>\n",
       "      <td>POINT (0 0)</td>\n",
       "    </tr>\n",
       "    <tr>\n",
       "      <th>2</th>\n",
       "      <td>2555 VALENCE ST</td>\n",
       "      <td>LOUANGER</td>\n",
       "      <td>(503) 867-6923</td>\n",
       "      <td>2025-02-01</td>\n",
       "      <td>Bed &amp; Breakfast Inns</td>\n",
       "      <td>106124978</td>\n",
       "      <td>NEW ORLEANS</td>\n",
       "      <td>LOUANGER</td>\n",
       "      <td>LA</td>\n",
       "      <td>NaN</td>\n",
       "      <td>VALENCE</td>\n",
       "      <td>2555</td>\n",
       "      <td>ST</td>\n",
       "      <td>NaN</td>\n",
       "      <td>70115-6341</td>\n",
       "      <td>3669444.11</td>\n",
       "      <td>524212.50</td>\n",
       "      <td>29.935763</td>\n",
       "      <td>-90.106386</td>\n",
       "      <td>POINT (-90.10638567129016 29.935762975538836)</td>\n",
       "    </tr>\n",
       "    <tr>\n",
       "      <th>3</th>\n",
       "      <td>650 S ROCHEBLAVE ST</td>\n",
       "      <td>NOLA FROZEN TIME PHOTOGRAPHY</td>\n",
       "      <td>(504) 892-3220</td>\n",
       "      <td>2025-03-27</td>\n",
       "      <td>Photography Studios, Portrait</td>\n",
       "      <td>106022854</td>\n",
       "      <td>NEW ORLEANS</td>\n",
       "      <td>NOLA FROZEN TIME PHOTOGRAPHY L</td>\n",
       "      <td>LA</td>\n",
       "      <td>S</td>\n",
       "      <td>ROCHEBLAVE</td>\n",
       "      <td>650</td>\n",
       "      <td>ST</td>\n",
       "      <td>NaN</td>\n",
       "      <td>70119-7439</td>\n",
       "      <td>3674709.28</td>\n",
       "      <td>532565.42</td>\n",
       "      <td>29.958575</td>\n",
       "      <td>-90.089477</td>\n",
       "      <td>POINT (-90.0894771646702 29.958574674015836)</td>\n",
       "    </tr>\n",
       "    <tr>\n",
       "      <th>4</th>\n",
       "      <td>3317 MAGAZINE ST</td>\n",
       "      <td>A VARGAS BODY SHOP</td>\n",
       "      <td>504-891-2606</td>\n",
       "      <td>1980-02-03</td>\n",
       "      <td>Automotive Body, Paint &amp; Interior Repair &amp; Mai...</td>\n",
       "      <td>101117693</td>\n",
       "      <td>NEW ORLEANS</td>\n",
       "      <td>A VARGAS BODY SHOP INC</td>\n",
       "      <td>LA</td>\n",
       "      <td>NaN</td>\n",
       "      <td>MAGAZINE</td>\n",
       "      <td>3317</td>\n",
       "      <td>ST</td>\n",
       "      <td>NaN</td>\n",
       "      <td>70115-2410</td>\n",
       "      <td>3675193.08</td>\n",
       "      <td>519773.31</td>\n",
       "      <td>29.923386</td>\n",
       "      <td>-90.088388</td>\n",
       "      <td>POINT (-90.08838832801506 29.923386122945704)</td>\n",
       "    </tr>\n",
       "  </tbody>\n",
       "</table>\n",
       "</div>"
      ],
      "text/plain": [
       "         BusinessAddress                  BusinessName   BusinessPhone  \\\n",
       "0       4532 MAGAZINE ST          OCTAVIA ART AND FILM    504-616-6202   \n",
       "1  24740 MILL VALLEY WAY                ALLOHN DESIGNS             NaN   \n",
       "2        2555 VALENCE ST                      LOUANGER  (503) 867-6923   \n",
       "3    650 S ROCHEBLAVE ST  NOLA FROZEN TIME PHOTOGRAPHY  (504) 892-3220   \n",
       "4       3317 MAGAZINE ST            A VARGAS BODY SHOP    504-891-2606   \n",
       "\n",
       "  BusinessStartDate                                       BusinessType  \\\n",
       "0        2008-03-14                                        Art Dealers   \n",
       "1        2018-05-14                      Special Events-Other (Vendor)   \n",
       "2        2025-02-01                               Bed & Breakfast Inns   \n",
       "3        2025-03-27                      Photography Studios, Portrait   \n",
       "4        1980-02-03  Automotive Body, Paint & Interior Repair & Mai...   \n",
       "\n",
       "   BusinessLicenseNumber         City                       OwnerName State  \\\n",
       "0              102680731  NEW ORLEANS                  PAMELA M BRYAN    LA   \n",
       "1              105032410       CARSON                  AGBENYA ALLOHN    CA   \n",
       "2              106124978  NEW ORLEANS                        LOUANGER    LA   \n",
       "3              106022854  NEW ORLEANS  NOLA FROZEN TIME PHOTOGRAPHY L    LA   \n",
       "4              101117693  NEW ORLEANS          A VARGAS BODY SHOP INC    LA   \n",
       "\n",
       "  StreetDirection   StreetName StreetNumber StreetSuffix Suite         Zip  \\\n",
       "0             NaN     MAGAZINE         4532           ST   NaN  70115-1543   \n",
       "1             NaN  MILL VALLEY        24740          WAY   NaN  90745-6454   \n",
       "2             NaN      VALENCE         2555           ST   NaN  70115-6341   \n",
       "3               S   ROCHEBLAVE          650           ST   NaN  70119-7439   \n",
       "4             NaN     MAGAZINE         3317           ST   NaN  70115-2410   \n",
       "\n",
       "    LocationX  LocationY   Latitude  Longitude  \\\n",
       "0  3670385.57  518674.04  29.920506 -90.103601   \n",
       "1        0.00       0.00   0.000000   0.000000   \n",
       "2  3669444.11  524212.50  29.935763 -90.106386   \n",
       "3  3674709.28  532565.42  29.958575 -90.089477   \n",
       "4  3675193.08  519773.31  29.923386 -90.088388   \n",
       "\n",
       "                                        Location  \n",
       "0   POINT (-90.10360111114565 29.92050622841199)  \n",
       "1                                    POINT (0 0)  \n",
       "2  POINT (-90.10638567129016 29.935762975538836)  \n",
       "3   POINT (-90.0894771646702 29.958574674015836)  \n",
       "4  POINT (-90.08838832801506 29.923386122945704)  "
      ]
     },
     "execution_count": 1,
     "metadata": {},
     "output_type": "execute_result"
    }
   ],
   "source": [
    "import pandas as pd\n",
    "\n",
    "df = pd.read_csv(\"active_occ_licenses_2025.csv\")\n",
    "\n",
    "print(df.shape)\n",
    "print(df.columns.tolist())\n",
    "df.head()"
   ]
  },
  {
   "cell_type": "markdown",
   "id": "7d860a2e-1cc8-441a-85d2-f4f2d15734ed",
   "metadata": {},
   "source": [
    "## Inspecting "
   ]
  },
  {
   "cell_type": "code",
   "execution_count": 2,
   "id": "1041dd88-2235-47e0-bb58-72ffffc1adb4",
   "metadata": {},
   "outputs": [
    {
     "name": "stdout",
     "output_type": "stream",
     "text": [
      "<class 'pandas.core.frame.DataFrame'>\n",
      "RangeIndex: 10896 entries, 0 to 10895\n",
      "Data columns (total 20 columns):\n",
      " #   Column                 Non-Null Count  Dtype  \n",
      "---  ------                 --------------  -----  \n",
      " 0   BusinessAddress        10896 non-null  object \n",
      " 1   BusinessName           8014 non-null   object \n",
      " 2   BusinessPhone          9594 non-null   object \n",
      " 3   BusinessStartDate      10896 non-null  object \n",
      " 4   BusinessType           10894 non-null  object \n",
      " 5   BusinessLicenseNumber  10896 non-null  int64  \n",
      " 6   City                   10896 non-null  object \n",
      " 7   OwnerName              10896 non-null  object \n",
      " 8   State                  10896 non-null  object \n",
      " 9   StreetDirection        1382 non-null   object \n",
      " 10  StreetName             10855 non-null  object \n",
      " 11  StreetNumber           10858 non-null  object \n",
      " 12  StreetSuffix           10768 non-null  object \n",
      " 13  Suite                  1429 non-null   object \n",
      " 14  Zip                    10896 non-null  object \n",
      " 15  LocationX              10896 non-null  float64\n",
      " 16  LocationY              10896 non-null  float64\n",
      " 17  Latitude               10896 non-null  float64\n",
      " 18  Longitude              10896 non-null  float64\n",
      " 19  Location               10896 non-null  object \n",
      "dtypes: float64(4), int64(1), object(15)\n",
      "memory usage: 1.7+ MB\n"
     ]
    },
    {
     "data": {
      "text/html": [
       "<div>\n",
       "<style scoped>\n",
       "    .dataframe tbody tr th:only-of-type {\n",
       "        vertical-align: middle;\n",
       "    }\n",
       "\n",
       "    .dataframe tbody tr th {\n",
       "        vertical-align: top;\n",
       "    }\n",
       "\n",
       "    .dataframe thead th {\n",
       "        text-align: right;\n",
       "    }\n",
       "</style>\n",
       "<table border=\"1\" class=\"dataframe\">\n",
       "  <thead>\n",
       "    <tr style=\"text-align: right;\">\n",
       "      <th></th>\n",
       "      <th>BusinessAddress</th>\n",
       "      <th>BusinessName</th>\n",
       "      <th>BusinessPhone</th>\n",
       "      <th>BusinessStartDate</th>\n",
       "      <th>BusinessType</th>\n",
       "      <th>BusinessLicenseNumber</th>\n",
       "      <th>City</th>\n",
       "      <th>OwnerName</th>\n",
       "      <th>State</th>\n",
       "      <th>StreetDirection</th>\n",
       "      <th>StreetName</th>\n",
       "      <th>StreetNumber</th>\n",
       "      <th>StreetSuffix</th>\n",
       "      <th>Suite</th>\n",
       "      <th>Zip</th>\n",
       "      <th>LocationX</th>\n",
       "      <th>LocationY</th>\n",
       "      <th>Latitude</th>\n",
       "      <th>Longitude</th>\n",
       "      <th>Location</th>\n",
       "    </tr>\n",
       "  </thead>\n",
       "  <tbody>\n",
       "    <tr>\n",
       "      <th>76</th>\n",
       "      <td>2139 BARONNE ST</td>\n",
       "      <td>NOLAVORE'S A LA CARTE MARKET</td>\n",
       "      <td>504-914-3161</td>\n",
       "      <td>2010-10-01</td>\n",
       "      <td>Caterers</td>\n",
       "      <td>102810856</td>\n",
       "      <td>NEW ORLEANS</td>\n",
       "      <td>NOLAVORE LLC</td>\n",
       "      <td>LA</td>\n",
       "      <td>NaN</td>\n",
       "      <td>BARONNE</td>\n",
       "      <td>2139</td>\n",
       "      <td>ST</td>\n",
       "      <td>NaN</td>\n",
       "      <td>70113-1515</td>\n",
       "      <td>3677019.22</td>\n",
       "      <td>524574.25</td>\n",
       "      <td>29.936532</td>\n",
       "      <td>-90.082458</td>\n",
       "      <td>POINT (-90.08245844709198 29.936532461434286)</td>\n",
       "    </tr>\n",
       "  </tbody>\n",
       "</table>\n",
       "</div>"
      ],
      "text/plain": [
       "    BusinessAddress                  BusinessName BusinessPhone  \\\n",
       "76  2139 BARONNE ST  NOLAVORE'S A LA CARTE MARKET  504-914-3161   \n",
       "\n",
       "   BusinessStartDate BusinessType  BusinessLicenseNumber         City  \\\n",
       "76        2010-10-01     Caterers              102810856  NEW ORLEANS   \n",
       "\n",
       "       OwnerName State StreetDirection StreetName StreetNumber StreetSuffix  \\\n",
       "76  NOLAVORE LLC    LA             NaN    BARONNE         2139           ST   \n",
       "\n",
       "   Suite         Zip   LocationX  LocationY   Latitude  Longitude  \\\n",
       "76   NaN  70113-1515  3677019.22  524574.25  29.936532 -90.082458   \n",
       "\n",
       "                                         Location  \n",
       "76  POINT (-90.08245844709198 29.936532461434286)  "
      ]
     },
     "execution_count": 2,
     "metadata": {},
     "output_type": "execute_result"
    }
   ],
   "source": [
    "df.info()\n",
    "df.isnull().sum()\n",
    "df.describe(include='all')\n",
    "df.duplicated().sum()\n",
    "df[df.duplicated()]"
   ]
  },
  {
   "cell_type": "markdown",
   "id": "9f5839d5-8c69-4086-b785-1268ff3db7e3",
   "metadata": {},
   "source": [
    "## Column Name Cleaning"
   ]
  },
  {
   "cell_type": "code",
   "execution_count": 3,
   "id": "905922f9-9173-4772-8b17-4e1b0b99ca5d",
   "metadata": {
    "scrolled": true
   },
   "outputs": [
    {
     "data": {
      "text/plain": [
       "Index(['businessaddress', 'businessname', 'businessphone', 'businessstartdate',\n",
       "       'businesstype', 'businesslicensenumber', 'city', 'ownername', 'state',\n",
       "       'streetdirection', 'streetname', 'streetnumber', 'streetsuffix',\n",
       "       'suite', 'zip', 'locationx', 'locationy', 'latitude', 'longitude',\n",
       "       'location'],\n",
       "      dtype='object')"
      ]
     },
     "execution_count": 3,
     "metadata": {},
     "output_type": "execute_result"
    }
   ],
   "source": [
    "df.columns = df.columns.str.strip().str.lower().str.replace(' ', '_')\n",
    "df.columns"
   ]
  },
  {
   "cell_type": "code",
   "execution_count": 4,
   "id": "b0983c74-fdb2-4e46-ab14-4e59ae527eec",
   "metadata": {},
   "outputs": [
    {
     "data": {
      "text/plain": [
       "Index(['business_address', 'business_name', 'business_phone',\n",
       "       'business_start_date', 'business_type', 'business_license_number',\n",
       "       'city', 'owner_name', 'state', 'street_direction', 'street_name',\n",
       "       'street_number', 'street_suffix', 'suite', 'zip', 'location_x',\n",
       "       'location_y', 'latitude', 'longitude', 'location'],\n",
       "      dtype='object')"
      ]
     },
     "execution_count": 4,
     "metadata": {},
     "output_type": "execute_result"
    }
   ],
   "source": [
    "df.rename(columns={\n",
    "    'businessaddress': 'business_address',\n",
    "    'businessname': 'business_name',\n",
    "    'businessphone': 'business_phone',\n",
    "    'businessstartdate': 'business_start_date',\n",
    "    'businesstype': 'business_type',\n",
    "    'businesslicensenumber': 'business_license_number',\n",
    "    'ownername': 'owner_name',\n",
    "    'streetdirection': 'street_direction',\n",
    "    'streetname': 'street_name',\n",
    "    'streetnumber': 'street_number',\n",
    "    'streetsuffix': 'street_suffix',\n",
    "    'locationx': 'location_x',\n",
    "    'locationy': 'location_y'\n",
    "}, inplace=True)\n",
    "\n",
    "df.columns"
   ]
  },
  {
   "cell_type": "markdown",
   "id": "f84c0806-e7bb-4a0c-8e70-dd6e6e816bd3",
   "metadata": {},
   "source": [
    "## Null & Duplicate Checks\n",
    "\n",
    "Checking for null and duplicate values in key columns that are relevant to business identification and classification. These fields are important for analysis & may need further handling if missing data is found. "
   ]
  },
  {
   "cell_type": "code",
   "execution_count": 5,
   "id": "4bc24289-4a90-4a28-a07f-f232159518bb",
   "metadata": {},
   "outputs": [],
   "source": [
    "df = df[df['business_name'].notnull()]"
   ]
  },
  {
   "cell_type": "code",
   "execution_count": 6,
   "id": "6c95412f-7b77-4feb-b311-caabfe132d6e",
   "metadata": {},
   "outputs": [
    {
     "data": {
      "text/plain": [
       "business_name       0\n",
       "suite            6997\n",
       "dtype: int64"
      ]
     },
     "execution_count": 6,
     "metadata": {},
     "output_type": "execute_result"
    }
   ],
   "source": [
    "df[['business_name', 'suite']].isnull().sum()"
   ]
  },
  {
   "cell_type": "code",
   "execution_count": 7,
   "id": "3ac3a6f5-8e20-4255-9a0d-b7bfda1d9bd7",
   "metadata": {},
   "outputs": [
    {
     "data": {
      "text/plain": [
       "business_name              0\n",
       "business_license_number    0\n",
       "business_start_date        0\n",
       "business_type              1\n",
       "dtype: int64"
      ]
     },
     "execution_count": 7,
     "metadata": {},
     "output_type": "execute_result"
    }
   ],
   "source": [
    "df[['business_name', 'business_license_number', 'business_start_date', 'business_type']].isnull().sum()"
   ]
  },
  {
   "cell_type": "markdown",
   "id": "bb2144a3-59d1-4471-8477-34e2297299b3",
   "metadata": {},
   "source": [
    "## Duplicate Check\n",
    "\n",
    "The business \"NOLAVORE'S A LA CARTE MARKET\" appears three times in the dataset with identical location & ownership details. However, due to variations in business type and license number, these records likely indicate multiple legitimate registrations for distinct services and are therefore kept in the dataset. "
   ]
  },
  {
   "cell_type": "code",
   "execution_count": 8,
   "id": "6e779df7-2bcb-4682-b434-3076e9d72bbd",
   "metadata": {},
   "outputs": [
    {
     "data": {
      "text/html": [
       "<div>\n",
       "<style scoped>\n",
       "    .dataframe tbody tr th:only-of-type {\n",
       "        vertical-align: middle;\n",
       "    }\n",
       "\n",
       "    .dataframe tbody tr th {\n",
       "        vertical-align: top;\n",
       "    }\n",
       "\n",
       "    .dataframe thead th {\n",
       "        text-align: right;\n",
       "    }\n",
       "</style>\n",
       "<table border=\"1\" class=\"dataframe\">\n",
       "  <thead>\n",
       "    <tr style=\"text-align: right;\">\n",
       "      <th></th>\n",
       "      <th>business_address</th>\n",
       "      <th>business_name</th>\n",
       "      <th>business_phone</th>\n",
       "      <th>business_start_date</th>\n",
       "      <th>business_type</th>\n",
       "      <th>business_license_number</th>\n",
       "      <th>city</th>\n",
       "      <th>owner_name</th>\n",
       "      <th>state</th>\n",
       "      <th>street_direction</th>\n",
       "      <th>street_name</th>\n",
       "      <th>street_number</th>\n",
       "      <th>street_suffix</th>\n",
       "      <th>suite</th>\n",
       "      <th>zip</th>\n",
       "      <th>location_x</th>\n",
       "      <th>location_y</th>\n",
       "      <th>latitude</th>\n",
       "      <th>longitude</th>\n",
       "      <th>location</th>\n",
       "    </tr>\n",
       "  </thead>\n",
       "  <tbody>\n",
       "    <tr>\n",
       "      <th>75</th>\n",
       "      <td>2139 BARONNE ST</td>\n",
       "      <td>NOLAVORE'S A LA CARTE MARKET</td>\n",
       "      <td>504-914-3161</td>\n",
       "      <td>2010-10-01</td>\n",
       "      <td>Caterers</td>\n",
       "      <td>102810856</td>\n",
       "      <td>NEW ORLEANS</td>\n",
       "      <td>NOLAVORE LLC</td>\n",
       "      <td>LA</td>\n",
       "      <td>NaN</td>\n",
       "      <td>BARONNE</td>\n",
       "      <td>2139</td>\n",
       "      <td>ST</td>\n",
       "      <td>NaN</td>\n",
       "      <td>70113-1515</td>\n",
       "      <td>3677019.22</td>\n",
       "      <td>524574.25</td>\n",
       "      <td>29.936532</td>\n",
       "      <td>-90.082458</td>\n",
       "      <td>POINT (-90.08245844709198 29.936532461434286)</td>\n",
       "    </tr>\n",
       "    <tr>\n",
       "      <th>76</th>\n",
       "      <td>2139 BARONNE ST</td>\n",
       "      <td>NOLAVORE'S A LA CARTE MARKET</td>\n",
       "      <td>504-914-3161</td>\n",
       "      <td>2010-10-01</td>\n",
       "      <td>Caterers</td>\n",
       "      <td>102810856</td>\n",
       "      <td>NEW ORLEANS</td>\n",
       "      <td>NOLAVORE LLC</td>\n",
       "      <td>LA</td>\n",
       "      <td>NaN</td>\n",
       "      <td>BARONNE</td>\n",
       "      <td>2139</td>\n",
       "      <td>ST</td>\n",
       "      <td>NaN</td>\n",
       "      <td>70113-1515</td>\n",
       "      <td>3677019.22</td>\n",
       "      <td>524574.25</td>\n",
       "      <td>29.936532</td>\n",
       "      <td>-90.082458</td>\n",
       "      <td>POINT (-90.08245844709198 29.936532461434286)</td>\n",
       "    </tr>\n",
       "    <tr>\n",
       "      <th>5488</th>\n",
       "      <td>2139 BARONNE ST</td>\n",
       "      <td>NOLAVORE'S A LA CARTE MARKET</td>\n",
       "      <td>504-914-3161</td>\n",
       "      <td>2024-01-01</td>\n",
       "      <td>Convenience Stores</td>\n",
       "      <td>105069380</td>\n",
       "      <td>NEW ORLEANS</td>\n",
       "      <td>NOLAVORE LLC</td>\n",
       "      <td>LA</td>\n",
       "      <td>NaN</td>\n",
       "      <td>BARONNE</td>\n",
       "      <td>2139</td>\n",
       "      <td>ST</td>\n",
       "      <td>NaN</td>\n",
       "      <td>70113-1515</td>\n",
       "      <td>3677019.22</td>\n",
       "      <td>524574.25</td>\n",
       "      <td>29.936532</td>\n",
       "      <td>-90.082458</td>\n",
       "      <td>POINT (-90.08245844709198 29.936532461434286)</td>\n",
       "    </tr>\n",
       "  </tbody>\n",
       "</table>\n",
       "</div>"
      ],
      "text/plain": [
       "     business_address                 business_name business_phone  \\\n",
       "75    2139 BARONNE ST  NOLAVORE'S A LA CARTE MARKET   504-914-3161   \n",
       "76    2139 BARONNE ST  NOLAVORE'S A LA CARTE MARKET   504-914-3161   \n",
       "5488  2139 BARONNE ST  NOLAVORE'S A LA CARTE MARKET   504-914-3161   \n",
       "\n",
       "     business_start_date       business_type  business_license_number  \\\n",
       "75            2010-10-01            Caterers                102810856   \n",
       "76            2010-10-01            Caterers                102810856   \n",
       "5488          2024-01-01  Convenience Stores                105069380   \n",
       "\n",
       "             city    owner_name state street_direction street_name  \\\n",
       "75    NEW ORLEANS  NOLAVORE LLC    LA              NaN     BARONNE   \n",
       "76    NEW ORLEANS  NOLAVORE LLC    LA              NaN     BARONNE   \n",
       "5488  NEW ORLEANS  NOLAVORE LLC    LA              NaN     BARONNE   \n",
       "\n",
       "     street_number street_suffix suite         zip  location_x  location_y  \\\n",
       "75            2139            ST   NaN  70113-1515  3677019.22   524574.25   \n",
       "76            2139            ST   NaN  70113-1515  3677019.22   524574.25   \n",
       "5488          2139            ST   NaN  70113-1515  3677019.22   524574.25   \n",
       "\n",
       "       latitude  longitude                                       location  \n",
       "75    29.936532 -90.082458  POINT (-90.08245844709198 29.936532461434286)  \n",
       "76    29.936532 -90.082458  POINT (-90.08245844709198 29.936532461434286)  \n",
       "5488  29.936532 -90.082458  POINT (-90.08245844709198 29.936532461434286)  "
      ]
     },
     "execution_count": 8,
     "metadata": {},
     "output_type": "execute_result"
    }
   ],
   "source": [
    "df[df['business_name'] == \"NOLAVORE'S A LA CARTE MARKET\"]"
   ]
  },
  {
   "cell_type": "markdown",
   "id": "82cd3939-4258-4e1c-9628-1618aed45829",
   "metadata": {},
   "source": [
    "## Dropping Rows with Missing Name \n",
    "\n",
    "Rows that are missing 'business_name' were dropped, as this field is critical for identifying and grouping businesses in the dataset. The 'suit' column has a large number of values. Not all business have suites, these missing values are expected & will be kept. "
   ]
  },
  {
   "cell_type": "code",
   "execution_count": 9,
   "id": "bec45548-908a-4dd7-b23f-907661ee676c",
   "metadata": {},
   "outputs": [
    {
     "data": {
      "text/html": [
       "<div>\n",
       "<style scoped>\n",
       "    .dataframe tbody tr th:only-of-type {\n",
       "        vertical-align: middle;\n",
       "    }\n",
       "\n",
       "    .dataframe tbody tr th {\n",
       "        vertical-align: top;\n",
       "    }\n",
       "\n",
       "    .dataframe thead th {\n",
       "        text-align: right;\n",
       "    }\n",
       "</style>\n",
       "<table border=\"1\" class=\"dataframe\">\n",
       "  <thead>\n",
       "    <tr style=\"text-align: right;\">\n",
       "      <th></th>\n",
       "      <th>business_address</th>\n",
       "      <th>business_name</th>\n",
       "      <th>business_phone</th>\n",
       "      <th>business_start_date</th>\n",
       "      <th>business_type</th>\n",
       "      <th>business_license_number</th>\n",
       "      <th>city</th>\n",
       "      <th>owner_name</th>\n",
       "      <th>state</th>\n",
       "      <th>street_direction</th>\n",
       "      <th>street_name</th>\n",
       "      <th>street_number</th>\n",
       "      <th>street_suffix</th>\n",
       "      <th>suite</th>\n",
       "      <th>zip</th>\n",
       "      <th>location_x</th>\n",
       "      <th>location_y</th>\n",
       "      <th>latitude</th>\n",
       "      <th>longitude</th>\n",
       "      <th>location</th>\n",
       "    </tr>\n",
       "  </thead>\n",
       "  <tbody>\n",
       "  </tbody>\n",
       "</table>\n",
       "</div>"
      ],
      "text/plain": [
       "Empty DataFrame\n",
       "Columns: [business_address, business_name, business_phone, business_start_date, business_type, business_license_number, city, owner_name, state, street_direction, street_name, street_number, street_suffix, suite, zip, location_x, location_y, latitude, longitude, location]\n",
       "Index: []"
      ]
     },
     "execution_count": 9,
     "metadata": {},
     "output_type": "execute_result"
    }
   ],
   "source": [
    "df[df['business_name'].isnull()].head()"
   ]
  },
  {
   "cell_type": "markdown",
   "id": "57493531-544e-4d7e-bcc9-15bb1a459969",
   "metadata": {},
   "source": [
    "## Changing business_start_date to datetime"
   ]
  },
  {
   "cell_type": "code",
   "execution_count": 10,
   "id": "02ac7820-06b4-4567-8443-f1b001ca491a",
   "metadata": {},
   "outputs": [],
   "source": [
    "df = df.copy()\n",
    "df['business_start_date'] = pd.to_datetime(df['business_start_date'], errors='coerce')"
   ]
  },
  {
   "cell_type": "markdown",
   "id": "1b0dac94-5e44-45e0-a28c-99b453f72df7",
   "metadata": {},
   "source": [
    "## Extracting Year"
   ]
  },
  {
   "cell_type": "code",
   "execution_count": 11,
   "id": "40d51788-939a-4704-bec3-95edb1ce9909",
   "metadata": {},
   "outputs": [
    {
     "data": {
      "text/plain": [
       "business_start_year\n",
       "1900      7\n",
       "1937      1\n",
       "1958      1\n",
       "1962      1\n",
       "1963      7\n",
       "       ... \n",
       "2022    289\n",
       "2023    372\n",
       "2024    474\n",
       "2025    839\n",
       "2026      2\n",
       "Name: count, Length: 68, dtype: int64"
      ]
     },
     "execution_count": 11,
     "metadata": {},
     "output_type": "execute_result"
    }
   ],
   "source": [
    "df['business_start_year'] = df['business_start_date'].dt.year\n",
    "df['business_start_year'].value_counts().sort_index()"
   ]
  },
  {
   "cell_type": "markdown",
   "id": "46fdbdb9-81b6-4cdb-bda4-cbbb54a0e407",
   "metadata": {},
   "source": [
    "## Number of Businesses Starting Over the Years"
   ]
  },
  {
   "cell_type": "code",
   "execution_count": 12,
   "id": "df6edafb-46c0-4225-83cc-05d6a39555a6",
   "metadata": {},
   "outputs": [
    {
     "data": {
      "image/png": "[encoded data removed]",
      "text/plain": [
       "<Figure size 1200x500 with 1 Axes>"
      ]
     },
     "metadata": {},
     "output_type": "display_data"
    }
   ],
   "source": [
    "import matplotlib.pyplot as plt\n",
    "\n",
    "df['business_start_year'].value_counts().sort_index().plot(kind='bar', figsize=(12,5))\n",
    "plt.title('Number of Businesses Started Each Year')\n",
    "plt.xlabel('Year')\n",
    "plt.ylabel('Count')\n",
    "plt.tight_layout()\n",
    "plt.show()"
   ]
  },
  {
   "cell_type": "markdown",
   "id": "a94ce4ba-237f-4a1f-838e-bfaf7e4050b6",
   "metadata": {},
   "source": [
    "## Recent Years: (2000-2025)"
   ]
  },
  {
   "cell_type": "code",
   "execution_count": 13,
   "id": "b542db51-f66e-412e-aaca-8e8f44d27b48",
   "metadata": {},
   "outputs": [
    {
     "data": {
      "image/png": "[encoded data removed]",
      "text/plain": [
       "<Figure size 1200x500 with 1 Axes>"
      ]
     },
     "metadata": {},
     "output_type": "display_data"
    }
   ],
   "source": [
    "recent = df[df['business_start_year'] >= 2000]\n",
    "\n",
    "recent['business_start_year'].value_counts().sort_index().plot(kind='bar', figsize=(12, 5))\n",
    "\n",
    "plt.title('Businesses Started Each Year (2000–2025)')\n",
    "plt.xlabel('Year')\n",
    "plt.ylabel('Count')\n",
    "plt.tight_layout()\n",
    "plt.savefig(\"business_starts_trend.png\")\n",
    "plt.show()"
   ]
  },
  {
   "cell_type": "code",
   "execution_count": 14,
   "id": "041e8773-32b4-43fb-b1f1-c74f88455d72",
   "metadata": {},
   "outputs": [
    {
     "data": {
      "text/plain": [
       "<Figure size 640x480 with 0 Axes>"
      ]
     },
     "metadata": {},
     "output_type": "display_data"
    }
   ],
   "source": [
    "plt.savefig(\"business_starts_trend.png\")"
   ]
  },
  {
   "cell_type": "markdown",
   "id": "05a660b2-a0fe-4611-9056-3b942ceeb883",
   "metadata": {},
   "source": [
    "## Sample Column Values "
   ]
  },
  {
   "cell_type": "code",
   "execution_count": 15,
   "id": "6c84deea-b045-4a51-b403-f62f7c8bb5d1",
   "metadata": {},
   "outputs": [
    {
     "name": "stdout",
     "output_type": "stream",
     "text": [
      "- **business_address**: Example value → 4532 MAGAZINE ST\n",
      "- **business_name**: Example value → OCTAVIA ART AND FILM\n",
      "- **business_phone**: Example value → 504-616-6202\n",
      "- **business_start_date**: Example value → 2008-03-14 00:00:00\n",
      "- **business_type**: Example value → Art Dealers\n",
      "- **business_license_number**: Example value → 102680731\n",
      "- **city**: Example value → NEW ORLEANS\n",
      "- **owner_name**: Example value → PAMELA M BRYAN\n",
      "- **state**: Example value → LA\n",
      "- **street_direction**: Example value → S\n",
      "- **street_name**: Example value → MAGAZINE\n",
      "- **street_number**: Example value → 4532\n",
      "- **street_suffix**: Example value → ST\n",
      "- **suite**: Example value → 102\n",
      "- **zip**: Example value → 70115-1543\n",
      "- **location_x**: Example value → 3670385.57\n",
      "- **location_y**: Example value → 518674.04\n",
      "- **latitude**: Example value → 29.92050622841199\n",
      "- **longitude**: Example value → -90.10360111114564\n",
      "- **location**: Example value → POINT (-90.10360111114565 29.92050622841199)\n",
      "- **business_start_year**: Example value → 2008\n"
     ]
    }
   ],
   "source": [
    "for col in df.columns:\n",
    "    sample_value = df[col].dropna().iloc[0] if not df[col].dropna().empty else \"No data\"\n",
    "    print(f\"- **{col}**: Example value → {sample_value}\")"
   ]
  },
  {
   "cell_type": "markdown",
   "id": "7a39ccfc-cfbf-47c3-bec3-8aa2ccf5da04",
   "metadata": {},
   "source": [
    "## Understanding the Dataset Columns\n",
    "\n",
    "To better interpet the dataseet, this section provides descriptions of each column along with a sample value. This helps clarify the structure of the data before performing any analysis or cleaning. "
   ]
  },
  {
   "cell_type": "markdown",
   "id": "07a4a772-3c05-4013-80e9-e3f4a8441ce0",
   "metadata": {},
   "source": [
    "### Column Description\n",
    "\n",
    "- **BusinessAddress**: Full street address of the buisness\n",
    "  location. _e.g., \"4532 MAGAZINE ST\"_\n",
    "\n",
    "---\n",
    "\n",
    "- **BusinessName**: Registered name of the business.\n",
    "  _e.g., \"OCTAVIA ART AND FILM\"_\n",
    "\n",
    "---\n",
    "\n",
    "- **BusinessPhone**: Business contact number.\n",
    "  _e.g., \"504-616-6202\"_\n",
    "\n",
    "---\n",
    "\n",
    "- **BusinessStartDate**: Official start date of business\n",
    "  operations. _e.g., \"2008-03-14\"_\n",
    "\n",
    "---\n",
    "\n",
    "- **BusinessType**: Classification of the business activity or\n",
    "  industry. _e.g., \"Art Dealers\"_\n",
    "\n",
    "---\n",
    "\n",
    "- **BusinessLicenseNumber**: Unique license ID assigned by the city. _e.g., \"102680731\"_\n",
    "\n",
    "---\n",
    "\n",
    "- **City**: City where the business is registered.\n",
    "  _e.g., \"NEW ORLEANS\"_\n",
    "\n",
    "---\n",
    "\n",
    "- **OwnerName**: Full name of the business owner.\n",
    "  _e.g., \"PAMELA M BRYAN\"_\n",
    "\n",
    "---\n",
    "\n",
    "- **State**: State abbreviation.\n",
    "  _e.g., \"LA\"_\n",
    "\n",
    "---\n",
    "\n",
    "- **StreetDirection**: Compass direction used in the street address. _e.g., \"S\"_\n",
    "\n",
    "---\n",
    "\n",
    "- **StreetName**: Name of the street without number or direction.\n",
    " _e.g., \"MAGAZINE\"_\n",
    "\n",
    "---\n",
    "\n",
    "- **StreetNumber**: Number portion of the address.\n",
    "  _e.g., \"4532\"_\n",
    "\n",
    "---\n",
    "\n",
    "- **StreetSuffix**: Type of road or street abbreviation.\n",
    "  _e.g., \"ST\"_\n",
    "\n",
    "---\n",
    "\n",
    "- **Suite**: Internal office or suite number, if applicable.\n",
    "  _e.g., \"207\"_\n",
    "\n",
    "---\n",
    "\n",
    "- **Zip**: ZIP code including any extended digits.\n",
    "  _e.g., \"70115-1543\"_\n",
    "\n",
    "---\n",
    "\n",
    "- **LocationX / LocationY**: Internal coordinate reference system\n",
    "  values.\n",
    "\n",
    "---\n",
    "\n",
    "- **Lattitude / Longitude**: Georgraphic location of the business.\n",
    "  _e.g., (29.0205, -99.1036)\n",
    "\n",
    "---\n",
    "\n",
    "- **Location**: GIS-style point reference for mapping.\n",
    "  _e.g., \"POINT (-90.1036 29.9205)\"_"
   ]
  },
  {
   "cell_type": "markdown",
   "id": "543b7f95-05a9-4b19-9bf7-1292712cd179",
   "metadata": {},
   "source": [
    "## Business Trends by Year\n",
    "\n",
    "Visualizing the number of new businesses registered each year providing insights into trends over time, including spikes/declines in activity. "
   ]
  },
  {
   "cell_type": "code",
   "execution_count": 16,
   "id": "350946aa-6d21-4f09-8786-caa33861094a",
   "metadata": {},
   "outputs": [],
   "source": [
    "df['start_year'] = df['business_start_date'].dt.year"
   ]
  },
  {
   "cell_type": "code",
   "execution_count": 17,
   "id": "6036f357-d266-489d-9d8d-76739924b54b",
   "metadata": {},
   "outputs": [
    {
     "data": {
      "image/png": "[encoded data removed]",
      "text/plain": [
       "<Figure size 1200x500 with 1 Axes>"
      ]
     },
     "metadata": {},
     "output_type": "display_data"
    }
   ],
   "source": [
    "df['start_year'].value_counts().sort_index().plot(\n",
    "    kind='bar', \n",
    "    figsize=(12,5), \n",
    "    title='Businesses Started per Year')\n",
    "plt.xlabel('Year')\n",
    "plt.ylabel('Number of Businesses')\n",
    "plt.grid(axis='y')\n",
    "plt.tight_layout()\n",
    "plt.show()"
   ]
  }
 ],
 "metadata": {
  "kernelspec": {
   "display_name": "Python 3 (ipykernel)",
   "language": "python",
   "name": "python3"
  },
  "language_info": {
   "codemirror_mode": {
    "name": "ipython",
    "version": 3
   },
   "file_extension": ".py",
   "mimetype": "text/x-python",
   "name": "python",
   "nbconvert_exporter": "python",
   "pygments_lexer": "ipython3",
   "version": "3.11.3"
  }
 },
 "nbformat": 4,
 "nbformat_minor": 5
}
